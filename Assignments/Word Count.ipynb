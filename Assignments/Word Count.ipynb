{
 "cells": [
  {
   "cell_type": "markdown",
   "id": "1336e673-a0c1-428b-afbc-2ac2317be845",
   "metadata": {},
   "source": [
    "## Word Count:\n",
    "Write a function that returns the count of characters and words in a string. Do not use the print() function to display the results. The string should provided to the function as an argument. "
   ]
  },
  {
   "cell_type": "code",
   "execution_count": null,
   "id": "3cc2b934-5ce4-48c7-a4d6-6a8ca9c0aa43",
   "metadata": {},
   "outputs": [],
   "source": [
    "def counts_words_characters(string_input):\n",
    "    character_count = len(string_input)\n",
    "    word_count = len(string_input.split())\n",
    "\n",
    "    return character_count, word_count \n",
    "    \n",
    "string_input = 'This is Class 601: Intro to Data Science'\n",
    "character_count, word_count = counts_words_characters(string_input)\n",
    "\n",
    "character_count, word_count"
   ]
  }
 ],
 "metadata": {
  "kernelspec": {
   "display_name": "Python 3 (ipykernel)",
   "language": "python",
   "name": "python3"
  },
  "language_info": {
   "codemirror_mode": {
    "name": "ipython",
    "version": 3
   },
   "file_extension": ".py",
   "mimetype": "text/x-python",
   "name": "python",
   "nbconvert_exporter": "python",
   "pygments_lexer": "ipython3",
   "version": "3.11.5"
  }
 },
 "nbformat": 4,
 "nbformat_minor": 5
}
