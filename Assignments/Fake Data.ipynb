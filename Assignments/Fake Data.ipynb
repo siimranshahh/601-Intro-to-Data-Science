{
 "cells": [
  {
   "cell_type": "markdown",
   "id": "468e36cc-a7a2-442e-971f-307ee3b7be92",
   "metadata": {},
   "source": [
    "## Fake Data\n",
    "\n",
    "Write a Python notebook that generates a file containing the following data:​ ​\n",
    "\n",
    "- Email addresses​. Must have an \"@\"\n",
    "- Phone numbers​\n",
    "- Home Address​\n",
    "- Person's name​\n",
    "- Year born. Use realistic values.​\n",
    "- Number of kids. Use realistic values.​\n",
    "- Categorical variable: rent or own?​\n",
    "- Annual income. Optional challenge: Use a non-uniform distribution​\n",
    "- Number of speeding tickets in past year. Optional challenge: Use a non-uniform distribution​\n",
    "  \n",
    "The user of your notebook should be able to specify how many entities are to be generated.​ ​\n",
    "\n",
    "​Do not include the .csv output file in your submission -- the file should be generated dynamically.\n",
    "\n",
    "Order of columns in CSV is not relevant. ​"
   ]
  },
  {
   "cell_type": "code",
   "execution_count": null,
   "id": "9683715e-03dc-476c-a97b-bb3d804a4f4c",
   "metadata": {},
   "outputs": [],
   "source": [
    "import pandas as pd\n",
    "import random\n",
    "import string"
   ]
  },
  {
   "cell_type": "code",
   "execution_count": null,
   "id": "25c9c38d-ed1b-461e-9735-7b2d97236bd5",
   "metadata": {},
   "outputs": [],
   "source": [
    "data = []"
   ]
  },
  {
   "cell_type": "markdown",
   "id": "2ad6b448-33ab-4327-869c-903eb5d0aec3",
   "metadata": {},
   "source": [
    "#Generate Email:"
   ]
  },
  {
   "cell_type": "code",
   "execution_count": null,
   "id": "7ab5d1d1-1b34-4405-8e1e-ab803f15a2a5",
   "metadata": {},
   "outputs": [],
   "source": [
    "def generate_email():\n",
    "    name = ''.join(random.choice(string.ascii_lowercase)for _ in range (10))\n",
    "    domain = random.choice(['@gmail.com','@yahoo.com','@outlook.com','@hotmail.com'])\n",
    "    return (name + domain)"
   ]
  },
  {
   "cell_type": "code",
   "execution_count": null,
   "id": "8668a984-bd3e-4b6b-9b08-415ccdc0f36c",
   "metadata": {},
   "outputs": [],
   "source": [
    "generate_email()"
   ]
  },
  {
   "cell_type": "markdown",
   "id": "57a3f103-3247-4789-aa0d-5e8160cc9c3f",
   "metadata": {},
   "source": [
    "#Generate Name:\n",
    "Resources used: https://stackoverflow.com/questions/40921767/generate-list-of-random-names-python"
   ]
  },
  {
   "cell_type": "code",
   "execution_count": null,
   "id": "c5a305d1-9d7f-4a08-88f8-1e372cac2450",
   "metadata": {},
   "outputs": [],
   "source": [
    "def generate_name():\n",
    "    first_name = random.choice(['Ben','John','Alison','Kathy','Jake','Mary','Elizabeth','Alex','Dexter','Emma','Mark','Sarah','Kyle','Jacob'])\n",
    "    last_name = random.choice(['Smith','Edwards','Brown','Olsen','Johnson','Swift','Miller','Williams','Robinson','Moore','Thompson'])\n",
    "    return (first_name + ' ' + last_name)"
   ]
  },
  {
   "cell_type": "code",
   "execution_count": null,
   "id": "a4715114-57de-45a1-a4c9-ffa6674163b2",
   "metadata": {},
   "outputs": [],
   "source": [
    "generate_name()"
   ]
  },
  {
   "cell_type": "markdown",
   "id": "e10dfb8b-8698-4203-84bd-903094068e73",
   "metadata": {},
   "source": [
    "#Generate Phone Number"
   ]
  },
  {
   "cell_type": "code",
   "execution_count": null,
   "id": "e8b2ce92-b2eb-4264-aa21-1752e15622af",
   "metadata": {},
   "outputs": [],
   "source": [
    "def generate_phone_num():\n",
    "    return f\"{random.randint(100,999)}-{random.randint(100,999)}-{random.randint(1000,9999)}\""
   ]
  },
  {
   "cell_type": "code",
   "execution_count": null,
   "id": "c7032cc0-c190-4338-abe8-02fcafc4bb32",
   "metadata": {},
   "outputs": [],
   "source": [
    "generate_phone_num()"
   ]
  },
  {
   "cell_type": "markdown",
   "id": "f7c83c3a-2ab8-45d7-8d6b-486728d2a8b5",
   "metadata": {},
   "source": [
    "#Generate Year of Birth"
   ]
  },
  {
   "cell_type": "code",
   "execution_count": null,
   "id": "c5049d2d-f837-4c19-a387-c635c145b50f",
   "metadata": {},
   "outputs": [],
   "source": [
    "def generate_yearbirth():\n",
    "    return random.randint(1965,2005)"
   ]
  },
  {
   "cell_type": "code",
   "execution_count": null,
   "id": "00425404-f22b-41aa-9179-c3982ae2ff95",
   "metadata": {},
   "outputs": [],
   "source": [
    "generate_yearbirth()"
   ]
  },
  {
   "cell_type": "markdown",
   "id": "d79f492d-87ac-4d26-8ac4-fe5b93dd9598",
   "metadata": {},
   "source": [
    "#Generate Kids"
   ]
  },
  {
   "cell_type": "code",
   "execution_count": null,
   "id": "c62869a4-7861-465f-8c01-197a84e18741",
   "metadata": {},
   "outputs": [],
   "source": [
    "def generate_kids():\n",
    "    return random.randint(0,5)"
   ]
  },
  {
   "cell_type": "code",
   "execution_count": null,
   "id": "74a80b3e-fe1c-4c67-be7c-830dfe4bab88",
   "metadata": {},
   "outputs": [],
   "source": [
    "generate_kids()"
   ]
  },
  {
   "cell_type": "markdown",
   "id": "a28c8081-35b3-4fce-b68d-e44de85adf71",
   "metadata": {},
   "source": [
    "#Generate Income"
   ]
  },
  {
   "cell_type": "code",
   "execution_count": null,
   "id": "6fdd767e-0bd9-4f27-a8d2-52d853636644",
   "metadata": {},
   "outputs": [],
   "source": [
    "def generate_income():\n",
    "    income = random.randint(30000,100000)\n",
    "    return income"
   ]
  },
  {
   "cell_type": "code",
   "execution_count": null,
   "id": "6ff09412-de0c-4fd7-bda2-f9ce12f41f4c",
   "metadata": {},
   "outputs": [],
   "source": [
    "generate_income()"
   ]
  },
  {
   "cell_type": "markdown",
   "id": "91e88990-e436-436d-82ba-850c165a6caa",
   "metadata": {},
   "source": [
    "#Generate Home Address"
   ]
  },
  {
   "cell_type": "code",
   "execution_count": null,
   "id": "18419658-285a-401d-9322-8e99de3bf342",
   "metadata": {},
   "outputs": [],
   "source": [
    "def generate_address():\n",
    "    street_num = random.randint(100,999)\n",
    "    street_name = random.choice(['Maple Ave', 'Main Street', 'Elm Street', 'Cornelia Street', 'Plain Ave'])\n",
    "    city_name = random.choice(['New York, NY', 'Los Angeles, CA', 'Chicago, IL', 'Baltimore, MD', 'Miami, FL', 'Detroit, MI', 'Dayton,OH'])\n",
    "    zip_num = random.randint(10000,99999)\n",
    "    return f\"{street_num}, {street_name}, {city_name}, {zip_num}\"\n",
    "    "
   ]
  },
  {
   "cell_type": "code",
   "execution_count": null,
   "id": "b909bb89-b0f6-41c0-99e1-939113cf70be",
   "metadata": {},
   "outputs": [],
   "source": [
    "generate_address()"
   ]
  },
  {
   "cell_type": "markdown",
   "id": "bd205b99-6e23-4a12-bd5a-08934c0e7b47",
   "metadata": {},
   "source": [
    "#Generate Category: Rent or Own"
   ]
  },
  {
   "cell_type": "code",
   "execution_count": null,
   "id": "fa3d6424-2fdd-4d90-8c7c-464e9461bb32",
   "metadata": {},
   "outputs": [],
   "source": [
    "def generate_category():\n",
    "    return random.choice(['Rent','Own'])"
   ]
  },
  {
   "cell_type": "code",
   "execution_count": null,
   "id": "e64de76e-a840-4b55-b369-cfa2e515fa20",
   "metadata": {},
   "outputs": [],
   "source": [
    "generate_category()"
   ]
  },
  {
   "cell_type": "markdown",
   "id": "16b1b9ba-0556-4bf5-ace5-937bbb42cc80",
   "metadata": {},
   "source": [
    "#Generate Speeding Tickets"
   ]
  },
  {
   "cell_type": "code",
   "execution_count": null,
   "id": "25ca291a-2c7e-44a3-8896-a460d9684acf",
   "metadata": {},
   "outputs": [],
   "source": [
    "def generate_tickets():\n",
    "    return random.randint(0,10)"
   ]
  },
  {
   "cell_type": "code",
   "execution_count": null,
   "id": "0782a078-fccd-4f66-aa51-3478de41d89a",
   "metadata": {},
   "outputs": [],
   "source": [
    "generate_tickets()"
   ]
  },
  {
   "cell_type": "markdown",
   "id": "8040297c-4de0-4014-b2bd-f7814d7f92d7",
   "metadata": {},
   "source": [
    "#Making Columns and Getting Data"
   ]
  },
  {
   "cell_type": "code",
   "execution_count": null,
   "id": "44736348-79e1-451a-b834-bc66e2e2c5ca",
   "metadata": {},
   "outputs": [],
   "source": [
    "gen_entities = int(input(\"Please enter the number of entities to generate:\"))"
   ]
  },
  {
   "cell_type": "code",
   "execution_count": null,
   "id": "43769026-d80e-4c95-90db-f9e90b761813",
   "metadata": {},
   "outputs": [],
   "source": [
    "    for _ in range(gen_entities):\n",
    "        name = generate_name()\n",
    "        email = generate_email()\n",
    "        phone = generate_phone_num()\n",
    "        year_birth = generate_yearbirth()\n",
    "        home_address = generate_address()\n",
    "        housing = generate_category()\n",
    "        num_kids = generate_kids()\n",
    "        annual_income = generate_income()\n",
    "        speed_tick = generate_tickets()    \n",
    "        \n",
    "        data.append({\n",
    "            'Name': name,\n",
    "            'Email': email,\n",
    "            'Phone': phone,\n",
    "            'Year of Birth': year_birth,\n",
    "            'Home Address': home_address,\n",
    "            'Category of Housing': housing,\n",
    "            'Number of Kids': num_kids,\n",
    "            'Annual Income': annual_income,\n",
    "            'Speeding Tickets': speed_tick\n",
    "        })\n",
    "    df = pd.DataFrame(data)\n"
   ]
  },
  {
   "cell_type": "code",
   "execution_count": null,
   "id": "9825ea25-d8a3-4e26-af4b-d47f29d406c1",
   "metadata": {},
   "outputs": [],
   "source": [
    "if df is not None:\n",
    "    df.to_csv(\"Fake_generated_data.csv\", index=False)\n",
    "    print(f\"Data for {gen_entities} entities saved to 'Fake_generated_data.csv'.\")\n",
    "else:\n",
    "    print(\"Failed to create Data File.\")"
   ]
  },
  {
   "cell_type": "code",
   "execution_count": null,
   "id": "92d3017b-b49e-4f96-849d-58134744141d",
   "metadata": {},
   "outputs": [],
   "source": []
  }
 ],
 "metadata": {
  "kernelspec": {
   "display_name": "Python 3 (ipykernel)",
   "language": "python",
   "name": "python3"
  },
  "language_info": {
   "codemirror_mode": {
    "name": "ipython",
    "version": 3
   },
   "file_extension": ".py",
   "mimetype": "text/x-python",
   "name": "python",
   "nbconvert_exporter": "python",
   "pygments_lexer": "ipython3",
   "version": "3.11.5"
  }
 },
 "nbformat": 4,
 "nbformat_minor": 5
}
