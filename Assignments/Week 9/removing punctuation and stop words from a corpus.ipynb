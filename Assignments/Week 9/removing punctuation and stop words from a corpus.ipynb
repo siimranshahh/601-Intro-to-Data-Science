{
 "cells": [
  {
   "cell_type": "markdown",
   "id": "628a9a2d-0d20-4ba3-a599-aa1b0fec126e",
   "metadata": {},
   "source": [
    "# week 9: removing punctuation and stop words from a corpus\n",
    "I provide a .zip containing .txt and .docx files​\n",
    "\n",
    "After extracting the .zip contents, use \"glob\" module to get the file names in a list\n",
    "\n",
    "For each file, remove punctuation and stop words​\n",
    "\n",
    "Produce a single .dat file containing the name of each file in quotes, a colon, then a list of words separated by commas​. The list of words per file should be unique for that file. Do not include URLs or phone numbers. Words should be made lowercase. \n",
    "\n",
    "Example output:\n",
    "\n",
    "\"File 1.txt\" : word1, word2, word3, word7​ \"name of file.docx\" : word8, word2, word1, word10​ \"another file.doc\" : word1, word12, word6​"
   ]
  },
  {
   "cell_type": "code",
   "execution_count": 129,
   "id": "b5805601-3d3f-4615-9bc0-ac3db8c11303",
   "metadata": {},
   "outputs": [],
   "source": [
    "import glob\n",
    "import os\n",
    "import zipfile\n",
    "from collections import Counter\n",
    "import re\n",
    "from docx import Document\n",
    "import string"
   ]
  },
  {
   "cell_type": "code",
   "execution_count": 130,
   "id": "163db183",
   "metadata": {},
   "outputs": [],
   "source": [
    "# Path to the files\n",
    "zip_path = '/Users/simranshah/Documents/Data 601 Assignments/week_10_txt_and_docx.zip'\n",
    "extract_to = '/Users/simranshah/Documents/Data 601 Assignments/extracted_files'"
   ]
  },
  {
   "cell_type": "code",
   "execution_count": 141,
   "id": "055e5898",
   "metadata": {},
   "outputs": [],
   "source": [
    "with zipfile.ZipFile(zip_path, 'r') as zip_ref:\n",
    "    zip_ref.extractall(extract_to)"
   ]
  },
  {
   "cell_type": "code",
   "execution_count": 132,
   "id": "ad26701a",
   "metadata": {},
   "outputs": [],
   "source": [
    "file_paths = glob.glob(extract_to + '/**/*.*', recursive=True)\n",
    "txt_docx_files = [file for file in file_paths if file.endswith(('.txt', '.docx'))]"
   ]
  },
  {
   "cell_type": "markdown",
   "id": "2624d712",
   "metadata": {},
   "source": [
    "#### Removing punctuations, stopwords and making list for the unique words"
   ]
  },
  {
   "cell_type": "code",
   "execution_count": 133,
   "id": "c107efb6",
   "metadata": {},
   "outputs": [
    {
     "name": "stdout",
     "output_type": "stream",
     "text": [
      "Requirement already satisfied: nltk in /Users/simranshah/anaconda3/lib/python3.11/site-packages (3.8.1)\n",
      "Requirement already satisfied: click in /Users/simranshah/anaconda3/lib/python3.11/site-packages (from nltk) (8.0.4)\n",
      "Requirement already satisfied: joblib in /Users/simranshah/anaconda3/lib/python3.11/site-packages (from nltk) (1.2.0)\n",
      "Requirement already satisfied: regex>=2021.8.3 in /Users/simranshah/anaconda3/lib/python3.11/site-packages (from nltk) (2022.7.9)\n",
      "Requirement already satisfied: tqdm in /Users/simranshah/anaconda3/lib/python3.11/site-packages (from nltk) (4.65.0)\n",
      "Note: you may need to restart the kernel to use updated packages.\n"
     ]
    }
   ],
   "source": [
    "pip install --user -U nltk"
   ]
  },
  {
   "cell_type": "code",
   "execution_count": 134,
   "id": "26db4052",
   "metadata": {},
   "outputs": [
    {
     "name": "stderr",
     "output_type": "stream",
     "text": [
      "[nltk_data] Downloading package stopwords to\n",
      "[nltk_data]     /Users/simranshah/nltk_data...\n",
      "[nltk_data]   Package stopwords is already up-to-date!\n",
      "[nltk_data] Downloading package punkt to\n",
      "[nltk_data]     /Users/simranshah/nltk_data...\n",
      "[nltk_data]   Package punkt is already up-to-date!\n"
     ]
    },
    {
     "data": {
      "text/plain": [
       "True"
      ]
     },
     "execution_count": 134,
     "metadata": {},
     "output_type": "execute_result"
    }
   ],
   "source": [
    "import nltk\n",
    "nltk.download('stopwords')\n",
    "nltk.download('punkt')"
   ]
  },
  {
   "cell_type": "code",
   "execution_count": 135,
   "id": "8491f100",
   "metadata": {},
   "outputs": [],
   "source": [
    "from nltk.corpus import stopwords\n",
    "from nltk.tokenize import word_tokenize"
   ]
  },
  {
   "cell_type": "markdown",
   "id": "b09c921a",
   "metadata": {},
   "source": [
    "https://www.geeksforgeeks.org/removing-stop-words-nltk-python/"
   ]
  },
  {
   "cell_type": "code",
   "execution_count": 136,
   "id": "223ca854",
   "metadata": {},
   "outputs": [],
   "source": [
    "results = {}"
   ]
  },
  {
   "cell_type": "code",
   "execution_count": 137,
   "id": "8d97e571",
   "metadata": {},
   "outputs": [],
   "source": [
    "def process_file(file_path):\n",
    "    if file_path.endswith('.txt'): # for text files\n",
    "        with open(file_path, 'r', encoding='utf-8') as file:\n",
    "            text = file.read()\n",
    "    elif file_path.endswith('.docx'): # for docx files \n",
    "        from docx import Document\n",
    "        doc = Document(file_path)\n",
    "        text = '\\n'.join([paragraph.text for paragraph in doc.paragraphs])\n",
    "\n",
    "        \n",
    "    # Lowercase and tokenize\n",
    "    text = text.lower()\n",
    "    tokens = word_tokenize(text)\n",
    "    \n",
    "    # Removing punctuation and numbers\n",
    "    table = str.maketrans('', '', string.punctuation + string.digits)\n",
    "    stripped = [w.translate(table) for w in tokens]\n",
    "    \n",
    "    # Removing non-alphabetic tokens, URLs, and phone numbers\n",
    "    words = [word for word in stripped if word.isalpha() and not re.match(r'.*[\\d-].*', word)]\n",
    "    \n",
    "    # Removing stopwords\n",
    "    stop_words = set(stopwords.words('english'))\n",
    "    words = [w for w in words if w not in stop_words]\n",
    "    \n",
    "    return list(set(words))"
   ]
  },
  {
   "cell_type": "markdown",
   "id": "f96671f3",
   "metadata": {},
   "source": [
    "https://stackoverflow.com/questions/47481398/os-path-basename-to-outfile"
   ]
  },
  {
   "cell_type": "code",
   "execution_count": 138,
   "id": "162e1261",
   "metadata": {},
   "outputs": [],
   "source": [
    "for file in txt_docx_files:\n",
    "    unique_words = process_file(file)\n",
    "    results[os.path.basename(file)] = unique_words"
   ]
  },
  {
   "cell_type": "markdown",
   "id": "0d7f6265",
   "metadata": {},
   "source": [
    "https://stackoverflow.com/questions/69790359/how-to-create-and-print-results-into-a-new-dat-file"
   ]
  },
  {
   "cell_type": "code",
   "execution_count": 139,
   "id": "2f11cd98",
   "metadata": {
    "scrolled": true
   },
   "outputs": [],
   "source": [
    "# Generating a dat file for the output \n",
    "output_path = extract_to + '/output.dat' \n",
    "with open(output_path, 'w', encoding='utf-8') as output_file:\n",
    "    for file_name, words in results.items():\n",
    "        output_file.write(f'\"{file_name}\" : {\", \".join(words)}\\n')"
   ]
  },
  {
   "cell_type": "code",
   "execution_count": 140,
   "id": "dabf89ed",
   "metadata": {},
   "outputs": [
    {
     "name": "stdout",
     "output_type": "stream",
     "text": [
      "Output written to /Users/simranshah/Documents/Data 601 Assignments/extracted_files/output.dat\n"
     ]
    }
   ],
   "source": [
    "print(f'Output written to {output_path}')"
   ]
  }
 ],
 "metadata": {
  "kernelspec": {
   "display_name": "Python 3 (ipykernel)",
   "language": "python",
   "name": "python3"
  },
  "language_info": {
   "codemirror_mode": {
    "name": "ipython",
    "version": 3
   },
   "file_extension": ".py",
   "mimetype": "text/x-python",
   "name": "python",
   "nbconvert_exporter": "python",
   "pygments_lexer": "ipython3",
   "version": "3.11.5"
  }
 },
 "nbformat": 4,
 "nbformat_minor": 5
}
