{
 "cells": [
  {
   "cell_type": "markdown",
   "id": "9f77a1d0-95c5-492f-829e-2e54f529cce5",
   "metadata": {},
   "source": [
    "Write a function that takes a list as the argument and returns a list with each element shifted left by two index. ​\n",
    "\n",
    "For example, [1, 2, 3, 4] becomes [3, 4, 1, 2]​\n",
    "\n",
    "[A,B,C,D,E] becomes [C,D,E,A,B]"
   ]
  },
  {
   "cell_type": "code",
   "execution_count": null,
   "id": "5d767925-79f4-48f0-b81c-3d80b166aa80",
   "metadata": {},
   "outputs": [],
   "source": [
    "def shift_left_two(lst):\n",
    "    if len(lst) <= 2:\n",
    "        return lst\n",
    "\n",
    "    shifted_list = lst[2:] + lst[:2]\n",
    "    return shifted_list"
   ]
  },
  {
   "cell_type": "code",
   "execution_count": null,
   "id": "a774c1b6-4ded-44b8-92ef-c64b6cc689be",
   "metadata": {},
   "outputs": [],
   "source": [
    "print(shift_left_two(['1', '2', '3', '4']))  \n",
    "print(shift_left_two(['A', 'B', 'C', 'D', 'E'])) "
   ]
  },
  {
   "cell_type": "markdown",
   "id": "b1ea476a-ef70-401c-abac-4eebbd0b6ed4",
   "metadata": {},
   "source": [
    "- If length of list is less than equal to 2: return original list\n",
    "- lst[2:]: Selects a slice of the list starting from index 2 to the end of the list. It extracts all elements from index 2 onwards.\n",
    "- list[:2]: Selects a slice of the list from the beginning up to (but not including) index 2. It extracts the first two elements of the list."
   ]
  },
  {
   "cell_type": "markdown",
   "id": "51bbdfd1-3b72-4dc7-ae24-63cdfee29ee2",
   "metadata": {},
   "source": [
    "References: \n",
    "- https://www.geeksforgeeks.org/array-rotation/"
   ]
  }
 ],
 "metadata": {
  "kernelspec": {
   "display_name": "Python 3 (ipykernel)",
   "language": "python",
   "name": "python3"
  },
  "language_info": {
   "codemirror_mode": {
    "name": "ipython",
    "version": 3
   },
   "file_extension": ".py",
   "mimetype": "text/x-python",
   "name": "python",
   "nbconvert_exporter": "python",
   "pygments_lexer": "ipython3",
   "version": "3.11.5"
  }
 },
 "nbformat": 4,
 "nbformat_minor": 5
}
