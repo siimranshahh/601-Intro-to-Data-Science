{
 "cells": [
  {
   "cell_type": "markdown",
   "id": "47848f37-7646-420e-a2a3-14fadecc95a0",
   "metadata": {},
   "source": [
    "# Date Conversion Function\n",
    "\n",
    "Complete the function that converts date to day of week\n",
    "\n",
    "The function should pass the doctest\n",
    "\n",
    "A template .ipynb file is provided"
   ]
  },
  {
   "cell_type": "code",
   "execution_count": 3,
   "id": "40128e86-a8bb-4aab-9011-2031481070f1",
   "metadata": {},
   "outputs": [],
   "source": [
    "# https://kolesnikov.ga/Testing_and_Debugging_Jupyter_Notebooks/ \n",
    "import doctest\n",
    "import pandas as pd"
   ]
  },
  {
   "cell_type": "code",
   "execution_count": 15,
   "id": "acf463e7-5c06-4907-a479-c2e710709585",
   "metadata": {},
   "outputs": [],
   "source": [
    "def convert_datetime_to_dayofweek(datetime_string):\n",
    "    \"\"\"\n",
    "    This function takes date in the format MON DAY YEAR  HH:MM(PM/AM)\n",
    "    and returns the day of the week\n",
    "    Assume input string is UTC\n",
    "    \n",
    "    >>> convert_datetime_to_dayofweek('Jun 1 2005  1:33PM')\n",
    "    'Wednesday'\n",
    "    >>> convert_datetime_to_dayofweek('Oct 25 2012  2:17AM')\n",
    "    'Thursday'\n",
    "    \"\"\"\n",
    "    dayofweek = pd.to_datetime(datetime_string, format='%b %d %Y %H:%M%p').day_name()\n",
    "    \n",
    "    return dayofweek"
   ]
  },
  {
   "cell_type": "code",
   "execution_count": 16,
   "id": "b9dbc6ec-6cbf-482d-a711-c3d5dfaee56a",
   "metadata": {},
   "outputs": [
    {
     "data": {
      "text/plain": [
       "TestResults(failed=0, attempted=2)"
      ]
     },
     "execution_count": 16,
     "metadata": {},
     "output_type": "execute_result"
    }
   ],
   "source": [
    "doctest.testmod()"
   ]
  },
  {
   "cell_type": "code",
   "execution_count": null,
   "id": "138ce95d-6554-406a-9d37-788026062789",
   "metadata": {},
   "outputs": [],
   "source": []
  }
 ],
 "metadata": {
  "kernelspec": {
   "display_name": "Python 3 (ipykernel)",
   "language": "python",
   "name": "python3"
  },
  "language_info": {
   "codemirror_mode": {
    "name": "ipython",
    "version": 3
   },
   "file_extension": ".py",
   "mimetype": "text/x-python",
   "name": "python",
   "nbconvert_exporter": "python",
   "pygments_lexer": "ipython3",
   "version": "3.11.5"
  }
 },
 "nbformat": 4,
 "nbformat_minor": 5
}
