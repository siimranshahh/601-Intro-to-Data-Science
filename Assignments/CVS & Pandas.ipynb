{
 "cells": [
  {
   "cell_type": "markdown",
   "id": "08598165-adfa-4fb7-8f76-666b0a25bf87",
   "metadata": {},
   "source": [
    "## CVS and Pandas \n",
    "\n",
    "Download data in CSV format from one of the following sites: here or here. Load the data into a Pandas dataframe. Use Pandas to count the number of rows of data and number of columns. Display the first 8 rows of the dataframe. Display the bottom 3 rows of the dataframe. Display the transpose of the first 4 rows. ​\n",
    "\n",
    "Your selection of a CSV should have at least 2 columns and at least 10 rows. Include a link to the data source in the Juptyer notebook you submit.​ ​"
   ]
  },
  {
   "cell_type": "markdown",
   "id": "d1d11f7b-4bd1-497f-8cd2-2e57e0f983e7",
   "metadata": {},
   "source": [
    "File: oscar_age_female.csv, age of female Oscar winners; 89 records: index, age, name, movie. There is also an initial header line."
   ]
  },
  {
   "cell_type": "code",
   "execution_count": 2,
   "id": "071b66f0-f4af-4457-a78d-de49f3cd388f",
   "metadata": {},
   "outputs": [],
   "source": [
    "import pandas as pd"
   ]
  },
  {
   "cell_type": "code",
   "execution_count": 15,
   "id": "19bd400c-b461-42b4-8ff6-d6f914fbfabc",
   "metadata": {},
   "outputs": [],
   "source": [
    "oscar_age_female = pd.read_csv(\"oscar_age_female.csv\")"
   ]
  },
  {
   "cell_type": "code",
   "execution_count": 16,
   "id": "8e5573b6-21aa-4129-96fc-8b8e326fb997",
   "metadata": {},
   "outputs": [
    {
     "data": {
      "text/html": [
       "<div>\n",
       "<style scoped>\n",
       "    .dataframe tbody tr th:only-of-type {\n",
       "        vertical-align: middle;\n",
       "    }\n",
       "\n",
       "    .dataframe tbody tr th {\n",
       "        vertical-align: top;\n",
       "    }\n",
       "\n",
       "    .dataframe thead th {\n",
       "        text-align: right;\n",
       "    }\n",
       "</style>\n",
       "<table border=\"1\" class=\"dataframe\">\n",
       "  <thead>\n",
       "    <tr style=\"text-align: right;\">\n",
       "      <th></th>\n",
       "      <th>Index</th>\n",
       "      <th>\"Year\"</th>\n",
       "      <th>\"Age\"</th>\n",
       "      <th>\"Name\"</th>\n",
       "      <th>\"Movie\"</th>\n",
       "    </tr>\n",
       "  </thead>\n",
       "  <tbody>\n",
       "    <tr>\n",
       "      <th>0</th>\n",
       "      <td>1</td>\n",
       "      <td>1928</td>\n",
       "      <td>22</td>\n",
       "      <td>\"Janet Gaynor\"</td>\n",
       "      <td>\"Seventh Heaven</td>\n",
       "    </tr>\n",
       "    <tr>\n",
       "      <th>1</th>\n",
       "      <td>2</td>\n",
       "      <td>1929</td>\n",
       "      <td>37</td>\n",
       "      <td>\"Mary Pickford\"</td>\n",
       "      <td>\"Coquette\"</td>\n",
       "    </tr>\n",
       "    <tr>\n",
       "      <th>2</th>\n",
       "      <td>3</td>\n",
       "      <td>1930</td>\n",
       "      <td>28</td>\n",
       "      <td>\"Norma Shearer\"</td>\n",
       "      <td>\"The Divorcee\"</td>\n",
       "    </tr>\n",
       "    <tr>\n",
       "      <th>3</th>\n",
       "      <td>4</td>\n",
       "      <td>1931</td>\n",
       "      <td>63</td>\n",
       "      <td>\"Marie Dressler\"</td>\n",
       "      <td>\"Min and Bill\"</td>\n",
       "    </tr>\n",
       "    <tr>\n",
       "      <th>4</th>\n",
       "      <td>5</td>\n",
       "      <td>1932</td>\n",
       "      <td>32</td>\n",
       "      <td>\"Helen Hayes\"</td>\n",
       "      <td>\"The Sin of Madelon Claudet\"</td>\n",
       "    </tr>\n",
       "    <tr>\n",
       "      <th>...</th>\n",
       "      <td>...</td>\n",
       "      <td>...</td>\n",
       "      <td>...</td>\n",
       "      <td>...</td>\n",
       "      <td>...</td>\n",
       "    </tr>\n",
       "    <tr>\n",
       "      <th>84</th>\n",
       "      <td>85</td>\n",
       "      <td>2012</td>\n",
       "      <td>62</td>\n",
       "      <td>\"Meryl Streep\"</td>\n",
       "      <td>\"The Iron Lady\"</td>\n",
       "    </tr>\n",
       "    <tr>\n",
       "      <th>85</th>\n",
       "      <td>86</td>\n",
       "      <td>2013</td>\n",
       "      <td>22</td>\n",
       "      <td>\"Jennifer Lawrence\"</td>\n",
       "      <td>\"Silver Linings Playbook\"</td>\n",
       "    </tr>\n",
       "    <tr>\n",
       "      <th>86</th>\n",
       "      <td>87</td>\n",
       "      <td>2014</td>\n",
       "      <td>44</td>\n",
       "      <td>\"Cate Blanchett\"</td>\n",
       "      <td>\"Blue Jasmine\"</td>\n",
       "    </tr>\n",
       "    <tr>\n",
       "      <th>87</th>\n",
       "      <td>88</td>\n",
       "      <td>2015</td>\n",
       "      <td>54</td>\n",
       "      <td>\"Julianne Moore\"</td>\n",
       "      <td>\"Still Alice\"</td>\n",
       "    </tr>\n",
       "    <tr>\n",
       "      <th>88</th>\n",
       "      <td>89</td>\n",
       "      <td>2016</td>\n",
       "      <td>26</td>\n",
       "      <td>\"Brie Larson\"</td>\n",
       "      <td>\"Room\"</td>\n",
       "    </tr>\n",
       "  </tbody>\n",
       "</table>\n",
       "<p>89 rows × 5 columns</p>\n",
       "</div>"
      ],
      "text/plain": [
       "    Index  \"Year\"  \"Age\"               \"Name\"                       \"Movie\"\n",
       "0       1    1928     22       \"Janet Gaynor\"               \"Seventh Heaven\n",
       "1       2    1929     37      \"Mary Pickford\"                    \"Coquette\"\n",
       "2       3    1930     28      \"Norma Shearer\"                \"The Divorcee\"\n",
       "3       4    1931     63     \"Marie Dressler\"                \"Min and Bill\"\n",
       "4       5    1932     32        \"Helen Hayes\"  \"The Sin of Madelon Claudet\"\n",
       "..    ...     ...    ...                  ...                           ...\n",
       "84     85    2012     62       \"Meryl Streep\"               \"The Iron Lady\"\n",
       "85     86    2013     22  \"Jennifer Lawrence\"     \"Silver Linings Playbook\"\n",
       "86     87    2014     44     \"Cate Blanchett\"                \"Blue Jasmine\"\n",
       "87     88    2015     54     \"Julianne Moore\"                 \"Still Alice\"\n",
       "88     89    2016     26        \"Brie Larson\"                        \"Room\"\n",
       "\n",
       "[89 rows x 5 columns]"
      ]
     },
     "execution_count": 16,
     "metadata": {},
     "output_type": "execute_result"
    }
   ],
   "source": [
    "oscar_age_female"
   ]
  },
  {
   "cell_type": "markdown",
   "id": "1398d2cb-5b73-41dc-800f-9da4c3106fff",
   "metadata": {},
   "source": [
    "Counting number of rows and colums:"
   ]
  },
  {
   "cell_type": "code",
   "execution_count": 22,
   "id": "83a18fd7-6f0c-43bc-99dc-70995f929016",
   "metadata": {},
   "outputs": [],
   "source": [
    "num_rows, num_colums = oscar_age_female.shape"
   ]
  },
  {
   "cell_type": "code",
   "execution_count": 20,
   "id": "15a1a541-3f4b-4eab-b832-1c89802e4c22",
   "metadata": {},
   "outputs": [
    {
     "data": {
      "text/plain": [
       "89"
      ]
     },
     "execution_count": 20,
     "metadata": {},
     "output_type": "execute_result"
    }
   ],
   "source": [
    "num_rows"
   ]
  },
  {
   "cell_type": "code",
   "execution_count": 23,
   "id": "d55e1926-ed75-49c9-8d3d-4f6deefecfec",
   "metadata": {},
   "outputs": [
    {
     "data": {
      "text/plain": [
       "5"
      ]
     },
     "execution_count": 23,
     "metadata": {},
     "output_type": "execute_result"
    }
   ],
   "source": [
    "num_colums"
   ]
  },
  {
   "cell_type": "markdown",
   "id": "45248997-3555-45c8-9ba4-81afc1c67fe8",
   "metadata": {},
   "source": [
    "Displaying first 8 rows of the data:"
   ]
  },
  {
   "cell_type": "code",
   "execution_count": 24,
   "id": "f1531280-d02e-48da-ae35-761caded202c",
   "metadata": {},
   "outputs": [
    {
     "name": "stdout",
     "output_type": "stream",
     "text": [
      "   Index  \"Year\"  \"Age\"               \"Name\"                       \"Movie\"\n",
      "0      1    1928     22       \"Janet Gaynor\"               \"Seventh Heaven\n",
      "1      2    1929     37      \"Mary Pickford\"                    \"Coquette\"\n",
      "2      3    1930     28      \"Norma Shearer\"                \"The Divorcee\"\n",
      "3      4    1931     63     \"Marie Dressler\"                \"Min and Bill\"\n",
      "4      5    1932     32        \"Helen Hayes\"  \"The Sin of Madelon Claudet\"\n",
      "5      6    1933     26  \"Katharine Hepburn\"               \"Morning Glory\"\n",
      "6      7    1934     31  \"Claudette Colbert\"       \"It Happened One Night\"\n",
      "7      8    1935     27        \"Bette Davis\"                   \"Dangerous\"\n"
     ]
    }
   ],
   "source": [
    "print(oscar_age_female.head(8))"
   ]
  },
  {
   "cell_type": "markdown",
   "id": "967efc40-3b79-4962-9dc2-fd2c830a8661",
   "metadata": {},
   "source": [
    "Displaying last 3 rows of the data:"
   ]
  },
  {
   "cell_type": "code",
   "execution_count": 25,
   "id": "05e3896d-cc7b-4ba0-ae13-b5e115e1743d",
   "metadata": {},
   "outputs": [
    {
     "name": "stdout",
     "output_type": "stream",
     "text": [
      "    Index  \"Year\"  \"Age\"            \"Name\"         \"Movie\"\n",
      "86     87    2014     44  \"Cate Blanchett\"  \"Blue Jasmine\"\n",
      "87     88    2015     54  \"Julianne Moore\"   \"Still Alice\"\n",
      "88     89    2016     26     \"Brie Larson\"          \"Room\"\n"
     ]
    }
   ],
   "source": [
    "print(oscar_age_female.tail(3))"
   ]
  },
  {
   "cell_type": "markdown",
   "id": "42984b63-f51e-48d9-8234-d94e00a936a3",
   "metadata": {},
   "source": [
    "Transpose of first 4 rows:"
   ]
  },
  {
   "cell_type": "code",
   "execution_count": 27,
   "id": "0964ee09-7cf3-42a0-a84a-5a1bce35f6bf",
   "metadata": {},
   "outputs": [],
   "source": [
    "transposed_oscar_age_female = oscar_age_female.head(4).T"
   ]
  },
  {
   "cell_type": "code",
   "execution_count": 28,
   "id": "535bf0f9-1be5-4824-83bc-b457b06a49a4",
   "metadata": {},
   "outputs": [
    {
     "data": {
      "text/html": [
       "<div>\n",
       "<style scoped>\n",
       "    .dataframe tbody tr th:only-of-type {\n",
       "        vertical-align: middle;\n",
       "    }\n",
       "\n",
       "    .dataframe tbody tr th {\n",
       "        vertical-align: top;\n",
       "    }\n",
       "\n",
       "    .dataframe thead th {\n",
       "        text-align: right;\n",
       "    }\n",
       "</style>\n",
       "<table border=\"1\" class=\"dataframe\">\n",
       "  <thead>\n",
       "    <tr style=\"text-align: right;\">\n",
       "      <th></th>\n",
       "      <th>0</th>\n",
       "      <th>1</th>\n",
       "      <th>2</th>\n",
       "      <th>3</th>\n",
       "    </tr>\n",
       "  </thead>\n",
       "  <tbody>\n",
       "    <tr>\n",
       "      <th>Index</th>\n",
       "      <td>1</td>\n",
       "      <td>2</td>\n",
       "      <td>3</td>\n",
       "      <td>4</td>\n",
       "    </tr>\n",
       "    <tr>\n",
       "      <th>\"Year\"</th>\n",
       "      <td>1928</td>\n",
       "      <td>1929</td>\n",
       "      <td>1930</td>\n",
       "      <td>1931</td>\n",
       "    </tr>\n",
       "    <tr>\n",
       "      <th>\"Age\"</th>\n",
       "      <td>22</td>\n",
       "      <td>37</td>\n",
       "      <td>28</td>\n",
       "      <td>63</td>\n",
       "    </tr>\n",
       "    <tr>\n",
       "      <th>\"Name\"</th>\n",
       "      <td>\"Janet Gaynor\"</td>\n",
       "      <td>\"Mary Pickford\"</td>\n",
       "      <td>\"Norma Shearer\"</td>\n",
       "      <td>\"Marie Dressler\"</td>\n",
       "    </tr>\n",
       "    <tr>\n",
       "      <th>\"Movie\"</th>\n",
       "      <td>\"Seventh Heaven</td>\n",
       "      <td>\"Coquette\"</td>\n",
       "      <td>\"The Divorcee\"</td>\n",
       "      <td>\"Min and Bill\"</td>\n",
       "    </tr>\n",
       "  </tbody>\n",
       "</table>\n",
       "</div>"
      ],
      "text/plain": [
       "                       0                1                2                 3\n",
       "Index                  1                2                3                 4\n",
       "\"Year\"              1928             1929             1930              1931\n",
       "\"Age\"                 22               37               28                63\n",
       "\"Name\"    \"Janet Gaynor\"  \"Mary Pickford\"  \"Norma Shearer\"  \"Marie Dressler\"\n",
       "\"Movie\"  \"Seventh Heaven       \"Coquette\"   \"The Divorcee\"    \"Min and Bill\""
      ]
     },
     "execution_count": 28,
     "metadata": {},
     "output_type": "execute_result"
    }
   ],
   "source": [
    "transposed_oscar_age_female"
   ]
  }
 ],
 "metadata": {
  "kernelspec": {
   "display_name": "Python 3 (ipykernel)",
   "language": "python",
   "name": "python3"
  },
  "language_info": {
   "codemirror_mode": {
    "name": "ipython",
    "version": 3
   },
   "file_extension": ".py",
   "mimetype": "text/x-python",
   "name": "python",
   "nbconvert_exporter": "python",
   "pygments_lexer": "ipython3",
   "version": "3.11.5"
  }
 },
 "nbformat": 4,
 "nbformat_minor": 5
}
